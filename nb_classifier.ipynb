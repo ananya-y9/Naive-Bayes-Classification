{
  "nbformat": 4,
  "nbformat_minor": 0,
  "metadata": {
    "colab": {
      "provenance": [],
      "authorship_tag": "ABX9TyN7cKnT6LJ2lCWKiLn5m8nt",
      "include_colab_link": true
    },
    "kernelspec": {
      "name": "python3",
      "display_name": "Python 3"
    },
    "language_info": {
      "name": "python"
    }
  },
  "cells": [
    {
      "cell_type": "markdown",
      "metadata": {
        "id": "view-in-github",
        "colab_type": "text"
      },
      "source": [
        "<a href=\"https://colab.research.google.com/github/ananya-y9/Naive-Bayes-Classification/blob/main/nb_classifier.ipynb\" target=\"_parent\"><img src=\"https://colab.research.google.com/assets/colab-badge.svg\" alt=\"Open In Colab\"/></a>"
      ]
    },
    {
      "cell_type": "markdown",
      "source": [
        "Given Diabetes Data, with 2 features (glucose levels and blood pressure), classify a patient positive or negative for Diabetes.\n",
        "\n",
        "Uses Generative Model (obtain probabilities of prior and likelihood of each class to calculate posterior, and the maximum posterior helps us classify each data entry)"
      ],
      "metadata": {
        "id": "OK_zFdYJtUcc"
      }
    },
    {
      "cell_type": "code",
      "execution_count": 3,
      "metadata": {
        "id": "JH_AgO1ar1Rn"
      },
      "outputs": [],
      "source": [
        "import pandas as pd\n",
        "import numpy as np"
      ]
    },
    {
      "cell_type": "code",
      "source": [
        "from google.colab import drive\n",
        "drive.mount('/content/gdrive', force_remount=True)\n",
        "\n",
        "test=pd.read_csv('gdrive/My Drive/test.csv')\n",
        "train = pd.read_csv('gdrive/My Drive/train.csv')"
      ],
      "metadata": {
        "colab": {
          "base_uri": "https://localhost:8080/"
        },
        "id": "TPPpf437r5YC",
        "outputId": "4d54de12-fc21-445e-f825-048d3cc78130"
      },
      "execution_count": 4,
      "outputs": [
        {
          "output_type": "stream",
          "name": "stdout",
          "text": [
            "Mounted at /content/gdrive\n"
          ]
        }
      ]
    },
    {
      "cell_type": "code",
      "source": [
        "train"
      ],
      "metadata": {
        "id": "-kY7rwwrsM9h"
      },
      "execution_count": null,
      "outputs": []
    },
    {
      "cell_type": "code",
      "source": [
        "def train_data(df):\n",
        "\n",
        "  positive = df[df['diabetes']==1]\n",
        "  negative = df[df['diabetes']==0]\n",
        "\n",
        "  prior_p = len(positive)/len(df)\n",
        "  prior_n = len(negative)/len(df)\n",
        "\n",
        "  glucose_p_mean = positive['glucose'].mean()\n",
        "  glucose_p_std  = positive['glucose'].std()\n",
        "\n",
        "  blood_p_mean = positive['bloodpressure'].mean()\n",
        "  blood_p_std = positive['bloodpressure'].std()\n",
        "\n",
        "  glucose_n_mean = negative['glucose'].mean()\n",
        "  glucose_n_std = negative['glucose'].std()\n",
        "\n",
        "  blood_n_mean = negative['bloodpressure'].mean()\n",
        "  blood_n_std = negative['bloodpressure'].std()\n",
        "\n",
        "  return glucose_p_mean, glucose_p_std, blood_p_mean, blood_p_std, glucose_n_mean, glucose_n_std, blood_n_mean, blood_n_std, prior_p, prior_n"
      ],
      "metadata": {
        "id": "hL48zLd3r7eh"
      },
      "execution_count": 5,
      "outputs": []
    },
    {
      "cell_type": "code",
      "source": [
        "#Naive Bayes Classifier\n",
        "#Calculate is a function used to use the Naive Bayes formula derived in 4.1 and actually calculate the probabilities using the gaussian function\n",
        "#The likelihoods are evaluated based on their distinct values and multiplied by the priors\n",
        "\n",
        "def gaussian(x, mean, stdv):\n",
        "  return np.exp(-(x-mean)**2/(2*stdv**2))/(stdv*np.sqrt(2*np.pi))\n",
        "\n",
        "glucose_p_mean, glucose_p_std, blood_p_mean, blood_p_std, glucose_n_mean, glucose_n_std, blood_n_mean, blood_n_std, prior_p, prior_n = train_data(train)\n",
        "\n",
        "def NBC(glucose_val, blood_val):\n",
        "  positive_diagnosis = gaussian(glucose_val, glucose_p_mean, glucose_p_std)*gaussian(blood_val, blood_p_mean, blood_p_std)*prior_p\n",
        "  negative_diagnosis = gaussian(glucose_val, glucose_n_mean, glucose_n_std)*gaussian(blood_val, blood_n_mean, blood_n_std)*prior_n\n",
        "  #pick the higher probability of the two to determine a prediction\n",
        "  if positive_diagnosis > negative_diagnosis:\n",
        "    return 1\n",
        "  else:\n",
        "    return 0"
      ],
      "metadata": {
        "id": "8pI_aYi0r9to"
      },
      "execution_count": 6,
      "outputs": []
    },
    {
      "cell_type": "code",
      "source": [
        "#Test for accuracy\n",
        "correct = 0\n",
        "for x in range(len(test)):\n",
        "  true = test['diabetes'][x]\n",
        "  prediction = 0\n",
        "  prediction = NBC(test['glucose'][x], test['bloodpressure'][x])\n",
        "  #for every value in test, check if the actual value matches our prediction and increase the count for correct if it is\n",
        "  if (prediction == true):\n",
        "    correct += 1\n",
        "\n",
        "print('Accuracy: ' + str(correct/len(test)))"
      ],
      "metadata": {
        "id": "KQvCwazpsTna",
        "colab": {
          "base_uri": "https://localhost:8080/"
        },
        "outputId": "0b09738d-1f35-4ea6-ef04-d82c8d3f0fa2"
      },
      "execution_count": 7,
      "outputs": [
        {
          "output_type": "stream",
          "name": "stdout",
          "text": [
            "Accuracy: 0.9230769230769231\n"
          ]
        }
      ]
    }
  ]
}